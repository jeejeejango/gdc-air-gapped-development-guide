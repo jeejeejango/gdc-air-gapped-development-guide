{
 "cells": [
  {
   "cell_type": "markdown",
   "id": "62957ec1-ddce-4cb7-bb08-1cfb1e96ee03",
   "metadata": {},
   "source": [
    "## Vertex AI pre-trained models setup"
   ]
  },
  {
   "cell_type": "markdown",
   "id": "f62bce1b-0bd5-4215-b37a-0d1277b22372",
   "metadata": {},
   "source": [
    "Sample notebook to download and install Vertex AI client libraries from GDCH console.\n",
    "\n",
    "Replace <console url> with your GDC air-gapped organization console url e.g. console.org-1.acme.com and the correct client libraries version available in your deployment."
   ]
  },
  {
   "cell_type": "code",
   "execution_count": 1,
   "id": "aba3ce9d-c653-433e-bb00-c5a94081abad",
   "metadata": {},
   "outputs": [],
   "source": [
    "!mkdir lib"
   ]
  },
  {
   "cell_type": "markdown",
   "id": "b0404b2c-9c20-433c-8fee-538b2695319e",
   "metadata": {},
   "source": [
    "### Install Speech client libraries"
   ]
  },
  {
   "cell_type": "code",
   "execution_count": null,
   "id": "46ed843a-17d3-4213-b1e4-03b1ce8cd11d",
   "metadata": {},
   "outputs": [],
   "source": [
    "!wget https://<console url>/.well-known/static/client-libraries/ubuntu-google-cloud-speech-2.15.0.tar.gz -P lib --no-check-certificate\n",
    "!tar -xvf lib/ubuntu-google-cloud-speech-2.15.0.tar.gz -C lib\n",
    "!pip install -r lib/google-cloud-speech/requirements.txt --no-index --find-links lib/google-cloud-speech"
   ]
  },
  {
   "cell_type": "markdown",
   "id": "d869d52a-1a40-47a4-8c65-a6f4228a3ac8",
   "metadata": {},
   "source": [
    "### Install Translation client libraries"
   ]
  },
  {
   "cell_type": "code",
   "execution_count": 3,
   "id": "117d2ea7-633d-428b-bfeb-934f5414f708",
   "metadata": {},
   "outputs": [],
   "source": [
    "!wget https://<console url>/.well-known/static/client-libraries/ubuntu-google-cloud-translate-3.8.0.tar.gz -P lib --no-check-certificate\n",
    "!tar -xvf lib/ubuntu-google-cloud-translate-3.8.0.tar.gz -C lib\n",
    "!pip install -r lib/google-cloud-translate/requirements.txt --no-index --find-links lib/google-cloud-translate"
   ]
  },
  {
   "cell_type": "markdown",
   "id": "df5f378d-3cef-437f-b08c-83c233f3a094",
   "metadata": {},
   "source": [
    "### Install Vision client libraries"
   ]
  },
  {
   "cell_type": "code",
   "execution_count": 4,
   "id": "3eb45443-dcc0-4c46-a519-634bd9694fd7",
   "metadata": {},
   "outputs": [],
   "source": [
    "!wget https://<console url>/.well-known/static/client-libraries/ubuntu-google-cloud-vision-3.0.0.tar.gz -P lib --no-check-certificate\n",
    "!tar -xvf lib/ubuntu-google-cloud-vision-3.0.0.tar.gz -C lib\n",
    "!pip install -r lib/google-cloud-vision/requirements.txt --no-index --find-links lib/google-cloud-vision"
   ]
  },
  {
   "cell_type": "code",
   "execution_count": 5,
   "id": "556fcc37-c2b5-4ed8-a6fa-4d1ad088b6ef",
   "metadata": {},
   "outputs": [],
   "source": [
    "! rm -rf lib"
   ]
  },
  {
   "cell_type": "code",
   "execution_count": null,
   "id": "20480282",
   "metadata": {},
   "outputs": [],
   "source": []
  }
 ],
 "metadata": {
  "kernelspec": {
   "display_name": "Python 3 (ipykernel)",
   "language": "python",
   "name": "python3"
  },
  "language_info": {
   "codemirror_mode": {
    "name": "ipython",
    "version": 3
   },
   "file_extension": ".py",
   "mimetype": "text/x-python",
   "name": "python",
   "nbconvert_exporter": "python",
   "pygments_lexer": "ipython3",
   "version": "3.10.14"
  }
 },
 "nbformat": 4,
 "nbformat_minor": 5
}
