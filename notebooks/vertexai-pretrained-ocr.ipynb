{
 "cells": [
  {
   "cell_type": "markdown",
   "id": "5125beec-75ba-42b6-85b2-d220045a7837",
   "metadata": {},
   "source": [
    "## Vertex AI OCR pretrained model\n",
    "This notebook demonstrate how you can extract text from image file."
   ]
  },
  {
   "cell_type": "code",
   "execution_count": 1,
   "id": "4c7fe1e0",
   "metadata": {},
   "outputs": [],
   "source": [
    "from google.cloud import vision\n",
    "import google.auth\n",
    "from google.auth.transport import requests\n",
    "from google.api_core.client_options import ClientOptions\n",
    "import requests as reqs"
   ]
  },
  {
   "cell_type": "code",
   "execution_count": 2,
   "id": "68e7a684-9689-4fba-bdd9-e4a665117892",
   "metadata": {},
   "outputs": [],
   "source": [
    "import os\n",
    "os.environ[\"GOOGLE_APPLICATION_CREDENTIALS\"] = \"<your service account key file>\" \n",
    "os.environ[\"GRPC_DEFAULT_SSL_ROOTS_FILE_PATH\"] = \"<your trusted bundle certes>\""
   ]
  },
  {
   "cell_type": "code",
   "execution_count": 3,
   "id": "83ca830b-a017-4121-a64e-fd2a892d3e19",
   "metadata": {},
   "outputs": [],
   "source": [
    "audience = \"https://<vertex ai ocr endpoint>:443\" #e.g. vision.org-1.acme.com\n",
    "api_endpoint = \"<vertex ai ocr endpoint>\""
   ]
  },
  {
   "cell_type": "code",
   "execution_count": 4,
   "id": "cda1d5ef-16cf-492f-9b54-5c8fa6597e9b",
   "metadata": {},
   "outputs": [],
   "source": [
    "# Get your credentials\n",
    "def get_credentials():\n",
    "    creds = None\n",
    "    try:\n",
    "        creds, project_id = google.auth.default()\n",
    "        creds = creds.with_gdch_audience(audience)\n",
    "        sesh = reqs.Session()\n",
    "        sesh.verify = False\n",
    "        creds._ca_cert_path = False\n",
    "        req = requests.Request(session=sesh)\n",
    "        creds.refresh(req)\n",
    "        print(\"Got token: \")\n",
    "        print(creds.token)\n",
    "    except Exception as e:\n",
    "        print(\"Caught exception\" + str(e))\n",
    "        raise e\n",
    "    return creds"
   ]
  },
  {
   "cell_type": "code",
   "execution_count": 5,
   "id": "7f18be2b-ccf1-4ed1-babc-48402cd69236",
   "metadata": {},
   "outputs": [],
   "source": [
    "def vision_client(creds):\n",
    "    opts = ClientOptions(api_endpoint=api_endpoint)\n",
    "    \"\"\"Create vision client.\"\"\"\n",
    "    return vision.ImageAnnotatorClient(credentials=creds, client_options=opts)"
   ]
  },
  {
   "cell_type": "code",
   "execution_count": 6,
   "id": "e5b12292",
   "metadata": {},
   "outputs": [],
   "source": [
    "def detect_text(image):\n",
    "    creds = get_credentials()\n",
    "    vc = vision_client(creds)\n",
    "    features = [{\"type_\": vision.Feature.Type.DOCUMENT_TEXT_DETECTION}]\n",
    "    # Each requests element corresponds to a single image. To annotate more\n",
    "    # images, create a request element for each image and add it to\n",
    "    # the array of requests\n",
    "    req = {\"image\": image, \"features\": features}\n",
    "    resp = vc.annotate_image(req)\n",
    "    print(resp)"
   ]
  },
  {
   "cell_type": "code",
   "execution_count": null,
   "id": "40d9a5b3-d431-44bb-87f3-d6ca463687ad",
   "metadata": {
    "scrolled": true
   },
   "outputs": [],
   "source": [
    "# your image content in base64 encoded\n",
    "image = {\"content\": \"iVBORw0KGgoAAAANSUhEUgAAAMgAAAArCAMAAAAKVjeAAAAAA3NCSVQICAjb4U/gAAAADFBMVEX///8AAABnZ2cMDAzMh6MLAAAAX3pUWHRSYXcgcHJvZmlsZSB0eXBlIEFQUDEAAAiZ40pPzUstykxWKCjKT8vMSeVSAANjEy4TSxNLo0QDAwMLAwgwNDAwNgSSRkC2OVQo0QAFmJibpQGhuVmymSmIzwUAT7oVaBst2IwAAAEjSURBVGiB7ZRBFsMgCEShvf+d+9o0VmAwxpCuZjZGkYGfaEQoiqIoiqIoiqKoG6Sqg6lbTqK1LfwWTpUjSJ0IMnIhyAXdDaL6mwSQPpg5hgeT9H7c5sG1FES/wiA2OgkSLUPfW7wSRNWUdSAuih19drTUFnCuiyBO+6ob7WBGTPJ5tZYDJ4NAJYgvEoesUgoC+8bntgikczALSXQGJLMcuj7nOfAduQbStkm3fQnkUQACP9EZkB3mCsgZ3QEiDkRQ0r9A4K55kHaswlUmyApIVsVH04oGxO1NSoDfbw2IujmI5hX7fNeeDkDaWAbSX/cIIjY4B+KTAoj5xaDelkAEWobooW2/xyZFkH0DTF4GsZ84HIejg4x7UWuAnlSzZIqiJvUCFxYEUadKypwAAAAASUVORK5CYII=\"}\n",
    "\n",
    "detect_text(image)"
   ]
  },
  {
   "cell_type": "code",
   "execution_count": null,
   "id": "2429bf41",
   "metadata": {},
   "outputs": [],
   "source": []
  }
 ],
 "metadata": {
  "kernelspec": {
   "display_name": "Python 3 (ipykernel)",
   "language": "python",
   "name": "python3"
  },
  "language_info": {
   "codemirror_mode": {
    "name": "ipython",
    "version": 3
   },
   "file_extension": ".py",
   "mimetype": "text/x-python",
   "name": "python",
   "nbconvert_exporter": "python",
   "pygments_lexer": "ipython3",
   "version": "3.10.14"
  }
 },
 "nbformat": 4,
 "nbformat_minor": 5
}
